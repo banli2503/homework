{
 "cells": [
  {
   "cell_type": "code",
   "execution_count": 54,
   "id": "3b36cf1e-9fa3-46bc-9a4f-f774774e17a4",
   "metadata": {},
   "outputs": [],
   "source": [
    "#import all necessary libraries\n",
    "import pandas as pd\n",
    "import numpy as np\n",
    "from sklearn.tree import DecisionTreeClassifier\n",
    "from sklearn.model_selection import train_test_split\n",
    "from sklearn.metrics import accuracy_score\n",
    "from scipy.stats import entropy"
   ]
  },
  {
   "cell_type": "code",
   "execution_count": 55,
   "id": "72d4d63c-4fbd-4a18-854f-636e2333adfe",
   "metadata": {},
   "outputs": [],
   "source": [
    "url = \"https://archive.ics.uci.edu/ml/machine-learning-databases/breast-cancer-wisconsin/breast-cancer-wisconsin.data\""
   ]
  },
  {
   "cell_type": "code",
   "execution_count": 56,
   "id": "3b7ab613-081d-4f4c-848d-68a3c5506230",
   "metadata": {},
   "outputs": [],
   "source": [
    "url = \"https://archive.ics.uci.edu/ml/machine-learning-databases/breast-cancer-wisconsin/breast-cancer-wisconsin.data\"\n",
    "column_names = [\"ID\", \"Clump_Thickness\", \n",
    "                \"Uniformity_Cell_Size\", \"Uniformity_Cell_Shape\", \n",
    "                \"Marginal_Adhesion\", \"Single_Epithelial_Cell_Size\",\n",
    "                \"Bare_Nuclei\",\"Bland_Chromatin\", \n",
    "                \"Normal_Nucleoli\", \"Mitoses\", \"Class\"]"
   ]
  },
  {
   "cell_type": "code",
   "execution_count": 57,
   "id": "e227cf1f-f925-48a7-ae22-d44fd5d47dec",
   "metadata": {},
   "outputs": [],
   "source": [
    "df = pd.read_csv(url, names=column_names, na_values=\"?\", dtype=str)\n",
    "df = df.dropna()  \n",
    "df = df.drop(columns=[\"ID\"])  \n",
    "df = df.astype(int) "
   ]
  },
  {
   "cell_type": "code",
   "execution_count": 62,
   "id": "8706ea7d-fea3-44ad-b97d-57acb034c05e",
   "metadata": {},
   "outputs": [],
   "source": [
    "X = df.drop(columns=[\"Class\"])\n",
    "y = df[\"Class\"].replace({2: 0, 4: 1}) \n",
    "X_train,X_test,y_train,y_test = train_test_split(X, y, test_size=0.2, random_state=42, stratify=y)"
   ]
  },
  {
   "cell_type": "code",
   "execution_count": 63,
   "id": "a5b8686e-1034-46d5-a88e-afc2df0929fc",
   "metadata": {},
   "outputs": [],
   "source": [
    "Model= DecisionTreeClassifier(max_depth=2, min_samples_split=5, min_samples_leaf=2, random_state=42).fit(X_train, y_train)"
   ]
  },
  {
   "cell_type": "code",
   "execution_count": 64,
   "id": "96d4b848-f07c-4a9d-ab37-90192fb4a6ee",
   "metadata": {},
   "outputs": [],
   "source": [
    "def gini(p):\n",
    "    return 1 - np.sum(np.square(p))"
   ]
  },
  {
   "cell_type": "code",
   "execution_count": 65,
   "id": "f6931e05-9528-4a05-aef0-b60f1b8b8a11",
   "metadata": {},
   "outputs": [],
   "source": [
    "def entropy_func(p):\n",
    "    return entropy(p, base=2)"
   ]
  },
  {
   "cell_type": "code",
   "execution_count": 66,
   "id": "a9b7ce93-4a9a-4c51-a863-7f9363804c80",
   "metadata": {},
   "outputs": [],
   "source": [
    "def misclassification_error(p):\n",
    "    return 1 - np.max(p)"
   ]
  },
  {
   "cell_type": "code",
   "execution_count": 67,
   "id": "b9d5f469-ef0b-4764-b553-27ea759a77ad",
   "metadata": {},
   "outputs": [],
   "source": [
    "feature_index = Model.tree_.feature[0]\n",
    "threshold =Model.tree_.threshold[0] \n",
    "feature_name = X.columns[feature_index]"
   ]
  },
  {
   "cell_type": "code",
   "execution_count": 68,
   "id": "207b7d79-1e61-4eab-a2df-9ca824d9cfa6",
   "metadata": {},
   "outputs": [],
   "source": [
    "n_total =Model.tree_.value[0].sum()\n",
    "p_root =Model.tree_.value[0][0]/n_total"
   ]
  },
  {
   "cell_type": "code",
   "execution_count": 69,
   "id": "21545d01-2ff4-4479-9317-d091f35dd026",
   "metadata": {},
   "outputs": [],
   "source": [
    "gini_root = gini(p_root)\n",
    "entropy_root = entropy_func(p_root)\n",
    "mis_error_root = misclassification_error(p_root)"
   ]
  },
  {
   "cell_type": "code",
   "execution_count": 70,
   "id": "ea8349d3-4990-48da-88d1-f36ba30d4d1a",
   "metadata": {},
   "outputs": [],
   "source": [
    "def information_gain(root_impurity, left_impurity, right_impurity, left_weight, right_weight):\n",
    "    return root_impurity - (left_weight * left_impurity + right_weight * right_impurity)"
   ]
  },
  {
   "cell_type": "code",
   "execution_count": 71,
   "id": "c16972ca-3f79-4e58-8f31-943fed486133",
   "metadata": {},
   "outputs": [],
   "source": [
    "left_node_samples =Model.tree_.value[1].sum()\n",
    "right_node_samples =Model.tree_.value[2].sum()\n",
    "left_p =Model.tree_.value[1][0] / left_node_samples\n",
    "right_p = Model.tree_.value[2][0] / right_node_samples"
   ]
  },
  {
   "cell_type": "code",
   "execution_count": 72,
   "id": "bef91018-64c7-443f-8fba-dd5dc3c45ce8",
   "metadata": {},
   "outputs": [],
   "source": [
    "gini_left =gini(left_p)\n",
    "gini_right =gini(right_p)\n",
    "entropy_left =entropy_func(left_p)\n",
    "entropy_right =entropy_func(right_p)"
   ]
  },
  {
   "cell_type": "code",
   "execution_count": 73,
   "id": "4d185910-7df4-4f67-8f62-8253fbaa6d19",
   "metadata": {},
   "outputs": [],
   "source": [
    "left_weight = left_node_samples/n_total\n",
    "right_weight = right_node_samples/n_total"
   ]
  },
  {
   "cell_type": "code",
   "execution_count": 74,
   "id": "46dfcafd-3f37-4e44-9277-622c5887c639",
   "metadata": {},
   "outputs": [],
   "source": [
    "info_gain = information_gain(gini_root, gini_left, gini_right, left_weight, right_weight)"
   ]
  },
  {
   "cell_type": "code",
   "execution_count": 75,
   "id": "88552caf-45b5-4e0d-ab6c-cfc67145e246",
   "metadata": {},
   "outputs": [
    {
     "name": "stdout",
     "output_type": "stream",
     "text": [
      "First split feature: Uniformity_Cell_Shape\n",
      "Decision boundary value: 3.50\n",
      "Gini impurity: 0.4549\n",
      "Entropy: 0.9339\n",
      "Misclassification error: 0.3498\n",
      "Information gain: 0.2863\n"
     ]
    }
   ],
   "source": [
    "print(f\"First split feature: {feature_name}\")\n",
    "print(f\"Decision boundary value: {threshold:.2f}\")\n",
    "print(f\"Gini impurity: {gini_root:.4f}\")\n",
    "print(f\"Entropy: {entropy_root:.4f}\")\n",
    "print(f\"Misclassification error: {mis_error_root:.4f}\")\n",
    "print(f\"Information gain: {info_gain:.4f}\")"
   ]
  },
  {
   "cell_type": "code",
   "execution_count": null,
   "id": "f46a171f-e86f-4b31-861d-56241e863c71",
   "metadata": {},
   "outputs": [],
   "source": []
  },
  {
   "cell_type": "code",
   "execution_count": null,
   "id": "cf6596cb-7062-41b2-b70d-a4572cd5a372",
   "metadata": {},
   "outputs": [],
   "source": []
  },
  {
   "cell_type": "code",
   "execution_count": null,
   "id": "2a4b8988-ef56-4ac6-8339-4da6d63eb6f2",
   "metadata": {},
   "outputs": [],
   "source": []
  }
 ],
 "metadata": {
  "kernelspec": {
   "display_name": "Python 3 (ipykernel)",
   "language": "python",
   "name": "python3"
  },
  "language_info": {
   "codemirror_mode": {
    "name": "ipython",
    "version": 3
   },
   "file_extension": ".py",
   "mimetype": "text/x-python",
   "name": "python",
   "nbconvert_exporter": "python",
   "pygments_lexer": "ipython3",
   "version": "3.12.7"
  }
 },
 "nbformat": 4,
 "nbformat_minor": 5
}
