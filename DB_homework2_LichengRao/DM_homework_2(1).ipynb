{
 "cells": [
  {
   "cell_type": "code",
   "execution_count": 13,
   "id": "28af66bd-8fb7-4a80-a2d4-65c6295fb05d",
   "metadata": {},
   "outputs": [],
   "source": [
    "import pandas as pd\n",
    "import numpy as np\n",
    "from sklearn.datasets import load_iris\n",
    "from sklearn.tree import DecisionTreeClassifier\n",
    "from sklearn.model_selection import train_test_split\n",
    "from sklearn.metrics import precision_score, recall_score, f1_score"
   ]
  },
  {
   "cell_type": "code",
   "execution_count": 14,
   "id": "ced39179-d4d2-4ef1-8296-f6e1b92b2923",
   "metadata": {},
   "outputs": [],
   "source": [
    "iris = load_iris()\n",
    "X = pd.DataFrame(iris.data, columns=iris.feature_names)\n",
    "y = pd.Series(iris.target)"
   ]
  },
  {
   "cell_type": "code",
   "execution_count": 15,
   "id": "1b5282fc-5bb5-4651-8ca0-bc753dba44e8",
   "metadata": {},
   "outputs": [],
   "source": [
    "X_train, X_test, y_train, y_test = train_test_split(X, y, test_size=0.2, random_state=42, stratify=y)"
   ]
  },
  {
   "cell_type": "code",
   "execution_count": 16,
   "id": "ea4addc0-cc7b-4dcf-aeb2-1457ea60087e",
   "metadata": {},
   "outputs": [],
   "source": [
    "results = []"
   ]
  },
  {
   "cell_type": "code",
   "execution_count": 17,
   "id": "f7f92d85-c9f4-4201-bf00-a7cce40be015",
   "metadata": {},
   "outputs": [
    {
     "name": "stderr",
     "output_type": "stream",
     "text": [
      "D:\\AnacomdaDownload\\Lib\\site-packages\\sklearn\\metrics\\_classification.py:1531: UndefinedMetricWarning: Precision is ill-defined and being set to 0.0 in labels with no predicted samples. Use `zero_division` parameter to control this behavior.\n",
      "  _warn_prf(average, modifier, f\"{metric.capitalize()} is\", len(result))\n",
      "D:\\AnacomdaDownload\\Lib\\site-packages\\sklearn\\metrics\\_classification.py:1531: UndefinedMetricWarning: Precision is ill-defined and being set to 0.0 in labels with no predicted samples. Use `zero_division` parameter to control this behavior.\n",
      "  _warn_prf(average, modifier, f\"{metric.capitalize()} is\", len(result))\n"
     ]
    }
   ],
   "source": [
    "for depth in range(1, 6):\n",
    "    Model= DecisionTreeClassifier(max_depth=depth, min_samples_split=5, min_samples_leaf=2, random_state=42).fit(X_train, y_train)\n",
    "\n",
    "    y_pred = Model.predict(X_test)\n",
    "\n",
    "    precision_macro = precision_score(y_test, y_pred, average='macro')\n",
    "    recall_macro = recall_score(y_test, y_pred, average='macro')\n",
    "    f1_macro = f1_score(y_test, y_pred, average='macro')\n",
    "\n",
    "    precision_micro = precision_score(y_test, y_pred, average='micro')\n",
    "    recall_micro = recall_score(y_test, y_pred, average='micro')\n",
    "    f1_micro = f1_score(y_test, y_pred, average='micro')\n",
    "\n",
    "    precision_weighted = precision_score(y_test, y_pred, average='weighted')\n",
    "    recall_weighted = recall_score(y_test, y_pred, average='weighted')\n",
    "    f1_weighted = f1_score(y_test, y_pred, average='weighted')\n",
    "\n",
    "    results.append((depth, precision_macro, recall_macro, f1_macro,\n",
    "                    precision_micro, recall_micro, f1_micro,\n",
    "                    precision_weighted, recall_weighted, f1_weighted))"
   ]
  },
  {
   "cell_type": "code",
   "execution_count": 18,
   "id": "105124b2-fb03-41b9-93ee-88e086163652",
   "metadata": {},
   "outputs": [],
   "source": [
    "df_results = pd.DataFrame(results, columns=[\"Max Depth\",\n",
    "                                            \"Precision (Macro)\", \"Recall (Macro)\", \"F1 Score (Macro)\",\n",
    "                                            \"Precision (Micro)\", \"Recall (Micro)\", \"F1 Score (Micro)\",\n",
    "                                            \"Precision (Weighted)\", \"Recall (Weighted)\", \"F1 Score (Weighted)\"])"
   ]
  },
  {
   "cell_type": "code",
   "execution_count": 19,
   "id": "1437eeac-c7d9-461c-9aa5-66b297d5af01",
   "metadata": {},
   "outputs": [
    {
     "name": "stdout",
     "output_type": "stream",
     "text": [
      "Macro Scores\n",
      "   Max Depth  Precision (Macro)  Recall (Macro)  F1 Score (Macro)\n",
      "0          1           0.500000        0.666667          0.555556\n",
      "1          2           0.933333        0.933333          0.933333\n",
      "2          3           0.969697        0.966667          0.966583\n",
      "3          4           0.969697        0.966667          0.966583\n",
      "4          5           0.969697        0.966667          0.966583\n"
     ]
    }
   ],
   "source": [
    "print(\"Macro Scores\")\n",
    "print(df_results[[\"Max Depth\", \"Precision (Macro)\", \"Recall (Macro)\", \"F1 Score (Macro)\"]])"
   ]
  },
  {
   "cell_type": "code",
   "execution_count": 20,
   "id": "cf04482f-0b57-460d-90a6-7f57cad34d75",
   "metadata": {},
   "outputs": [
    {
     "name": "stdout",
     "output_type": "stream",
     "text": [
      "Micro Scores\n",
      "   Max Depth  Precision (Micro)  Recall (Micro)  F1 Score (Micro)\n",
      "0          1           0.666667        0.666667          0.666667\n",
      "1          2           0.933333        0.933333          0.933333\n",
      "2          3           0.966667        0.966667          0.966667\n",
      "3          4           0.966667        0.966667          0.966667\n",
      "4          5           0.966667        0.966667          0.966667\n"
     ]
    }
   ],
   "source": [
    "print(\"Micro Scores\")\n",
    "print(df_results[[\"Max Depth\", \"Precision (Micro)\", \"Recall (Micro)\", \"F1 Score (Micro)\"]])"
   ]
  },
  {
   "cell_type": "code",
   "execution_count": 21,
   "id": "2ecf9cd7-5c2e-4d48-a80e-ff5e45b701c2",
   "metadata": {},
   "outputs": [
    {
     "name": "stdout",
     "output_type": "stream",
     "text": [
      "Weighted Scores\n",
      "   Max Depth  Precision (Weighted)  Recall (Weighted)  F1 Score (Weighted)\n",
      "0          1              0.500000           0.666667             0.555556\n",
      "1          2              0.933333           0.933333             0.933333\n",
      "2          3              0.969697           0.966667             0.966583\n",
      "3          4              0.969697           0.966667             0.966583\n",
      "4          5              0.969697           0.966667             0.966583\n"
     ]
    }
   ],
   "source": [
    "print(\"Weighted Scores\")\n",
    "print(df_results[[\"Max Depth\", \"Precision (Weighted)\", \"Recall (Weighted)\", \"F1 Score (Weighted)\"]])"
   ]
  },
  {
   "cell_type": "code",
   "execution_count": 22,
   "id": "525f56cd-92e4-4444-9d36-79e89a9c9e63",
   "metadata": {},
   "outputs": [],
   "source": [
    "best_recall_depth = df_results.loc[df_results[\"Recall (Macro)\"].idxmax(), \"Max Depth\"]\n",
    "best_recall_value = df_results[\"Recall (Macro)\"].max()"
   ]
  },
  {
   "cell_type": "code",
   "execution_count": 23,
   "id": "b3ae555d-b3a3-457b-b6b7-fc6a554617d8",
   "metadata": {},
   "outputs": [],
   "source": [
    "orst_precision_depth = df_results.loc[df_results[\"Precision (Macro)\"].idxmin(), \"Max Depth\"]\n",
    "worst_precision_value = df_results[\"Precision (Macro)\"].min()\n"
   ]
  },
  {
   "cell_type": "code",
   "execution_count": 24,
   "id": "1223f447-6e53-48e5-a7e0-b0c2033836aa",
   "metadata": {},
   "outputs": [],
   "source": [
    "best_f1_depth = df_results.loc[df_results[\"F1 Score (Macro)\"].idxmax(), \"Max Depth\"]\n",
    "best_f1_value = df_results[\"F1 Score (Macro)\"].max()"
   ]
  },
  {
   "cell_type": "code",
   "execution_count": 27,
   "id": "8aa84ade-fc66-42cd-9825-c2e61c8d19b3",
   "metadata": {},
   "outputs": [
    {
     "name": "stdout",
     "output_type": "stream",
     "text": [
      "The highest recall (Recall) occurs at max_depth = 3, with a value of 0.9667\n"
     ]
    },
    {
     "ename": "NameError",
     "evalue": "name 'worst_precision_depth' is not defined",
     "output_type": "error",
     "traceback": [
      "\u001b[1;31m---------------------------------------------------------------------------\u001b[0m",
      "\u001b[1;31mNameError\u001b[0m                                 Traceback (most recent call last)",
      "Cell \u001b[1;32mIn[27], line 2\u001b[0m\n\u001b[0;32m      1\u001b[0m \u001b[38;5;28mprint\u001b[39m(\u001b[38;5;124mf\u001b[39m\u001b[38;5;124m\"\u001b[39m\u001b[38;5;124mThe highest recall (Recall) occurs at max_depth = \u001b[39m\u001b[38;5;132;01m{\u001b[39;00mbest_recall_depth\u001b[38;5;132;01m}\u001b[39;00m\u001b[38;5;124m, with a value of \u001b[39m\u001b[38;5;132;01m{\u001b[39;00mbest_recall_value\u001b[38;5;132;01m:\u001b[39;00m\u001b[38;5;124m.4f\u001b[39m\u001b[38;5;132;01m}\u001b[39;00m\u001b[38;5;124m\"\u001b[39m)\n\u001b[1;32m----> 2\u001b[0m \u001b[38;5;28mprint\u001b[39m(\u001b[38;5;124mf\u001b[39m\u001b[38;5;124m\"\u001b[39m\u001b[38;5;124mThe wowest precision (Precision) occurs at max_depth = \u001b[39m\u001b[38;5;132;01m{\u001b[39;00mworst_precision_depth\u001b[38;5;132;01m}\u001b[39;00m\u001b[38;5;124m, with a value of \u001b[39m\u001b[38;5;132;01m{\u001b[39;00mworst_precision_value\u001b[38;5;132;01m:\u001b[39;00m\u001b[38;5;124m.4f\u001b[39m\u001b[38;5;132;01m}\u001b[39;00m\u001b[38;5;124m\"\u001b[39m)\n\u001b[0;32m      3\u001b[0m \u001b[38;5;28mprint\u001b[39m(\u001b[38;5;124mf\u001b[39m\u001b[38;5;124m\"\u001b[39m\u001b[38;5;124mThe best F1 score occurs at max_depth = \u001b[39m\u001b[38;5;132;01m{\u001b[39;00mbest_f1_depth\u001b[38;5;132;01m}\u001b[39;00m\u001b[38;5;124m, with a value of \u001b[39m\u001b[38;5;132;01m{\u001b[39;00mbest_f1_value\u001b[38;5;132;01m:\u001b[39;00m\u001b[38;5;124m.4f\u001b[39m\u001b[38;5;132;01m}\u001b[39;00m\u001b[38;5;130;01m\\n\u001b[39;00m\u001b[38;5;124m\"\u001b[39m)\n",
      "\u001b[1;31mNameError\u001b[0m: name 'worst_precision_depth' is not defined"
     ]
    }
   ],
   "source": [
    "print(f\"The highest recall occurs at max_depth = {best_recall_depth}, with a value of {best_recall_value:.4f}\")\n",
    "print(f\"The wowest precision (Precision) occurs at max_depth = {worst_precision_depth}, with a value of {worst_precision_value:.4f}\")\n",
    "print(f\"The best F1 score occurs at max_depth = {best_f1_depth}, with a value of {best_f1_value:.4f}\\n\")\n"
   ]
  },
  {
   "cell_type": "code",
   "execution_count": 26,
   "id": "7b2a75c8-94ff-4b82-85f6-de785c3a1114",
   "metadata": {},
   "outputs": [
    {
     "name": "stdout",
     "output_type": "stream",
     "text": [
      "\n",
      "Differences between micro average, macro average, and weighted average scoring methods:\n",
      "Micro Average: First calculate the total number of true positives(TP), false positives(FP), and false negatives(FN) across all categories, then compute the recall, precision, and F1 score based on these totals.\n",
      "Macro Average: Calculate the recall, precision, and F1 score for each category separately, and then take the average of these scores.\n",
      "Weighted Average: Calculate the recall, precision, and F1 score for each category separately, and then compute a weighted average of these scores based on the number of samples in each category.\n"
     ]
    }
   ],
   "source": [
    "print(\"\\nDifferences between micro average, macro average, and weighted average scoring methods:\")\n",
    "print(\"Micro Average: First calculate the total number of true positives(TP), false positives(FP), and false negatives(FN) across all categories, then compute the recall, precision, and F1 score based on these totals.\")\n",
    "print(\"Macro Average: Calculate the recall, precision, and F1 score for each category separately, and then take the average of these scores.\")\n",
    "print(\"Weighted Average: Calculate the recall, precision, and F1 score for each category separately, and then compute a weighted average of these scores based on the number of samples in each category.\")\n"
   ]
  },
  {
   "cell_type": "code",
   "execution_count": null,
   "id": "30b9697d-a203-497b-8193-a66e4535c5a2",
   "metadata": {},
   "outputs": [],
   "source": []
  },
  {
   "cell_type": "code",
   "execution_count": null,
   "id": "2b07eb4c-6272-4cb7-a32f-a8415b719ed5",
   "metadata": {},
   "outputs": [],
   "source": []
  }
 ],
 "metadata": {
  "kernelspec": {
   "display_name": "Python 3 (ipykernel)",
   "language": "python",
   "name": "python3"
  },
  "language_info": {
   "codemirror_mode": {
    "name": "ipython",
    "version": 3
   },
   "file_extension": ".py",
   "mimetype": "text/x-python",
   "name": "python",
   "nbconvert_exporter": "python",
   "pygments_lexer": "ipython3",
   "version": "3.12.7"
  }
 },
 "nbformat": 4,
 "nbformat_minor": 5
}
