{
 "cells": [
  {
   "cell_type": "code",
   "execution_count": 70,
   "id": "596e0eb3-2540-472f-b4c9-4b20692b77ba",
   "metadata": {},
   "outputs": [],
   "source": [
    "import pandas as pd\n",
    "import numpy as np\n",
    "from sklearn.cluster import AgglomerativeClustering\n",
    "from sklearn.preprocessing import StandardScaler\n",
    "from sklearn.metrics import silhouette_score"
   ]
  },
  {
   "cell_type": "code",
   "execution_count": 71,
   "id": "7d6b81da-720a-4257-ae8f-1a1f094f9c76",
   "metadata": {},
   "outputs": [],
   "source": [
    "# Load data\n",
    "column_names = [\"mpg\", \"cylinders\", \"displacement\", \"horsepower\",\n",
    "                \"weight\", \"acceleration\", \"model_year\", \"origin\", \"car_name\"]\n",
    "url = \"https://archive.ics.uci.edu/ml/machine-learning-databases/auto-mpg/auto-mpg.data\"\n",
    "df = pd.read_csv(url, names=column_names, na_values='?', sep=r'\\s+', skipinitialspace=True)"
   ]
  },
  {
   "cell_type": "code",
   "execution_count": 72,
   "id": "ca856230-2667-4b99-bd59-6b6991304c88",
   "metadata": {},
   "outputs": [],
   "source": [
    "# Extract continuous features\n",
    "continuous_features = [\"mpg\", \"displacement\", \"horsepower\", \"weight\", \"acceleration\"]\n",
    "data = df[continuous_features]"
   ]
  },
  {
   "cell_type": "code",
   "execution_count": 73,
   "id": "c0886ae2-75f2-4ca8-bc33-2701e47e5206",
   "metadata": {},
   "outputs": [],
   "source": [
    "# Missing value imputation\n",
    "data = data.fillna(data.mean())"
   ]
  },
  {
   "cell_type": "code",
   "execution_count": 74,
   "id": "de20f534-3255-4c17-b753-08772f357c2e",
   "metadata": {},
   "outputs": [],
   "source": [
    "# Standardization\n",
    "scaler = StandardScaler()\n",
    "data_scaled = scaler.fit_transform(data)"
   ]
  },
  {
   "cell_type": "code",
   "execution_count": 75,
   "id": "9cff3238-ba33-4bfe-b8ad-f43ec0c14854",
   "metadata": {},
   "outputs": [],
   "source": [
    "# Hierarchical clustering\n",
    "# Starting from scikit-learn >= 1.2, the affinity parameter in AgglomerativeClustering has been renamed to metric.\n",
    "clustering = AgglomerativeClustering(\n",
    "    n_clusters=3,\n",
    "    linkage='average',\n",
    "    metric='euclidean'\n",
    ")\n",
    "df['cluster'] = clustering.fit_predict(data_scaled)"
   ]
  },
  {
   "cell_type": "code",
   "execution_count": 76,
   "id": "18fbb075-4899-4b26-a7fd-97714fccd91c",
   "metadata": {},
   "outputs": [
    {
     "name": "stdout",
     "output_type": "stream",
     "text": [
      "\n",
      "Mean of each cluster:\n",
      "                mpg  displacement  horsepower       weight  acceleration\n",
      "cluster                                                                \n",
      "0        26.177441    144.304714   86.120275  2598.414141     16.425589\n",
      "1        14.528866    348.020619  161.804124  4143.969072     12.641237\n",
      "2        43.700000     91.750000   49.000000  2133.750000     22.875000\n",
      "\n",
      "Variance of each cluster:\n",
      "                mpg  displacement  horsepower         weight  acceleration\n",
      "cluster                                                                  \n",
      "0        41.303375   3511.485383  294.554450  299118.709664      4.875221\n",
      "1         4.771033   2089.499570  674.075816  193847.051117      3.189948\n",
      "2         0.300000     12.250000    4.000000   21672.916667      2.309167\n"
     ]
    }
   ],
   "source": [
    "# Mean and variance of each cluster when using cluster as class labels\n",
    "cluster_mean = df.groupby('cluster')[continuous_features].mean()\n",
    "cluster_var = df.groupby('cluster')[continuous_features].var()\n",
    "\n",
    "print(\"\\nMean of each cluster:\\n\", cluster_mean)\n",
    "print(\"\\nVariance of each cluster:\\n\", cluster_var)"
   ]
  },
  {
   "cell_type": "code",
   "execution_count": 77,
   "id": "d0505e63-8d3e-4390-941d-999f163e930e",
   "metadata": {},
   "outputs": [
    {
     "name": "stdout",
     "output_type": "stream",
     "text": [
      "\n",
      "Mean under the origin category:\n",
      "               mpg  displacement  horsepower       weight  acceleration\n",
      "origin                                                                \n",
      "1       20.083534    245.901606  119.048980  3361.931727     15.033735\n",
      "2       27.891429    109.142857   80.558824  2423.300000     16.787143\n",
      "3       30.450633    102.708861   79.835443  2221.227848     16.172152\n",
      "\n",
      "Variance under the origin category:\n",
      "               mpg  displacement   horsepower         weight  acceleration\n",
      "origin                                                                   \n",
      "1       40.997026   9702.612255  1591.833657  631695.128385      7.568615\n",
      "2       45.211230    509.950311   406.339772  240142.328986      9.276209\n",
      "3       37.088685    535.465433   317.523856  102718.485881      3.821779\n"
     ]
    }
   ],
   "source": [
    "# Mean and variance of each cluster when using origin as class labels\n",
    "origin_mean = df.groupby('origin')[continuous_features].mean()\n",
    "origin_var = df.groupby('origin')[continuous_features].var()\n",
    "\n",
    "print(\"\\nMean under the origin category:\\n\", origin_mean)\n",
    "print(\"\\nVariance under the origin category:\\n\", origin_var)"
   ]
  },
  {
   "cell_type": "code",
   "execution_count": 78,
   "id": "673bc4d3-e138-49a4-9c52-b1b785a4140d",
   "metadata": {},
   "outputs": [
    {
     "name": "stdout",
     "output_type": "stream",
     "text": [
      "\n",
      "Cross-tabulation of Cluster and Origin:\n",
      " origin     1   2   3\n",
      "cluster             \n",
      "0        152  66  79\n",
      "1         97   0   0\n",
      "2          0   4   0\n",
      "\n",
      "Expanation:\n",
      "Based on the cross-tabulation, it can be inferred that there might be a certain relationship between the clustering and the origin label.\n",
      "Especially for clusters 1 and 2, whose samples are almost entirely composed of a single origin category.\n",
      "This suggests that the clustering results may be influenced by the origin category.\n",
      "\n"
     ]
    }
   ],
   "source": [
    "# Relationship between cluster results and origin results\n",
    "# Cross-tabulation to see the distribution of clusters and origin\n",
    "cross_tab = pd.crosstab(df['cluster'], df['origin'])\n",
    "print(\"\\nCross-tabulation of Cluster and Origin:\\n\", cross_tab)\n",
    "print(\"\\nExpanation:\")\n",
    "print(\"Based on the cross-tabulation, it can be inferred that there might be a certain relationship between the clustering and the origin label.\")\n",
    "print(\"Especially for clusters 1 and 2, whose samples are almost entirely composed of a single origin category.\")\n",
    "print(\"This suggests that the clustering results may be influenced by the origin category.\\n\")\n"
   ]
  },
  {
   "cell_type": "code",
   "execution_count": 79,
   "id": "fc0d66ef-cc41-4d58-bed9-73b8bddcb6b3",
   "metadata": {},
   "outputs": [
    {
     "name": "stdout",
     "output_type": "stream",
     "text": [
      "\n",
      "Cluster Silhouette Score:  0.42120821530523345\n",
      "\n",
      "Expanation:\n",
      "The Silhouette Score is 0.42, indicating a moderate clustering effect.\n",
      "This score suggests that while the clustering results can distinguish different samples to some extent,\n",
      "the separation between clusters is not very distinct.\n"
     ]
    }
   ],
   "source": [
    "# Clustering effect score\n",
    "sil_score = silhouette_score(data_scaled, df['cluster'])\n",
    "print(\"\\nCluster Silhouette Score: \", sil_score)\n",
    "print(\"\\nExpanation:\")\n",
    "print(\"The Silhouette Score is {:.2f}, indicating a moderate clustering effect.\".format(sil_score))\n",
    "print(\"This score suggests that while the clustering results can distinguish different samples to some extent,\")\n",
    "print(\"the separation between clusters is not very distinct.\")"
   ]
  },
  {
   "cell_type": "code",
   "execution_count": null,
   "id": "e10ee6ed-4528-425f-b249-23a0b4fd42ef",
   "metadata": {},
   "outputs": [],
   "source": []
  },
  {
   "cell_type": "code",
   "execution_count": null,
   "id": "589a9536-d98b-493e-a4e7-46348dc25a7f",
   "metadata": {},
   "outputs": [],
   "source": []
  },
  {
   "cell_type": "code",
   "execution_count": null,
   "id": "38bc24b1-00fa-4c41-bdd7-6ceccc0aa16e",
   "metadata": {},
   "outputs": [],
   "source": []
  }
 ],
 "metadata": {
  "kernelspec": {
   "display_name": "Python 3 (ipykernel)",
   "language": "python",
   "name": "python3"
  },
  "language_info": {
   "codemirror_mode": {
    "name": "ipython",
    "version": 3
   },
   "file_extension": ".py",
   "mimetype": "text/x-python",
   "name": "python",
   "nbconvert_exporter": "python",
   "pygments_lexer": "ipython3",
   "version": "3.12.7"
  }
 },
 "nbformat": 4,
 "nbformat_minor": 5
}
