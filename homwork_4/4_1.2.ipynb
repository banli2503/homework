{
 "cells": [
  {
   "cell_type": "code",
   "execution_count": 9,
   "id": "116f5d4b-78d1-4099-82a3-9b7227110bb6",
   "metadata": {},
   "outputs": [],
   "source": [
    "import pandas as pd\n",
    "import numpy as np\n",
    "from sklearn.preprocessing import StandardScaler\n",
    "from sklearn.cluster import KMeans\n",
    "from sklearn.metrics import silhouette_score"
   ]
  },
  {
   "cell_type": "code",
   "execution_count": 10,
   "id": "3174dd2c-1e48-4bed-8559-ecc743bc7fad",
   "metadata": {},
   "outputs": [],
   "source": [
    "# Load the dataset\n",
    "file_path = r\"C:\\\\Users\\\\ZhuanZ\\\\Desktop\\\\Boston.csv\"\n",
    "df = pd.read_csv(file_path, index_col=0)"
   ]
  },
  {
   "cell_type": "code",
   "execution_count": 11,
   "id": "0b86ff97-547d-4cbe-9374-67ef8f636879",
   "metadata": {},
   "outputs": [
    {
     "name": "stdout",
     "output_type": "stream",
     "text": [
      "Data preview:\n",
      "       crim    zn  indus  chas    nox     rm   age     dis  rad  tax  ptratio  \\\n",
      "1  0.00632  18.0   2.31     0  0.538  6.575  65.2  4.0900    1  296     15.3   \n",
      "2  0.02731   0.0   7.07     0  0.469  6.421  78.9  4.9671    2  242     17.8   \n",
      "3  0.02729   0.0   7.07     0  0.469  7.185  61.1  4.9671    2  242     17.8   \n",
      "4  0.03237   0.0   2.18     0  0.458  6.998  45.8  6.0622    3  222     18.7   \n",
      "5  0.06905   0.0   2.18     0  0.458  7.147  54.2  6.0622    3  222     18.7   \n",
      "\n",
      "        b  lstat  medv  \n",
      "1  396.90   4.98  24.0  \n",
      "2  396.90   9.14  21.6  \n",
      "3  392.83   4.03  34.7  \n",
      "4  394.63   2.94  33.4  \n",
      "5  396.90   5.33  36.2  \n"
     ]
    }
   ],
   "source": [
    "# Preview the first few rows to ensure the file loaded correctly\n",
    "print(\"Data preview:\\n\", df.head())"
   ]
  },
  {
   "cell_type": "code",
   "execution_count": 12,
   "id": "ed0309d9-6051-446f-a7e2-7b6b7ea3c734",
   "metadata": {},
   "outputs": [],
   "source": [
    "# Extract feature columns (excluding the target column 'medv')\n",
    "X = df.drop(columns=['medv'])"
   ]
  },
  {
   "cell_type": "code",
   "execution_count": 13,
   "id": "bcd4e8f8-c972-48a9-9124-51cc2f36d66d",
   "metadata": {},
   "outputs": [],
   "source": [
    "# Standardize the feature data\n",
    "scaler = StandardScaler()\n",
    "X_scaled = scaler.fit_transform(X)"
   ]
  },
  {
   "cell_type": "code",
   "execution_count": 14,
   "id": "dac7a5b6-caad-49e4-883e-9a143ee30dce",
   "metadata": {},
   "outputs": [
    {
     "name": "stderr",
     "output_type": "stream",
     "text": [
      "D:\\AnacomdaDownload\\Lib\\site-packages\\sklearn\\cluster\\_kmeans.py:1429: UserWarning: KMeans is known to have a memory leak on Windows with MKL, when there are less chunks than available threads. You can avoid it by setting the environment variable OMP_NUM_THREADS=2.\n",
      "  warnings.warn(\n",
      "D:\\AnacomdaDownload\\Lib\\site-packages\\sklearn\\cluster\\_kmeans.py:1429: UserWarning: KMeans is known to have a memory leak on Windows with MKL, when there are less chunks than available threads. You can avoid it by setting the environment variable OMP_NUM_THREADS=2.\n",
      "  warnings.warn(\n",
      "D:\\AnacomdaDownload\\Lib\\site-packages\\sklearn\\cluster\\_kmeans.py:1429: UserWarning: KMeans is known to have a memory leak on Windows with MKL, when there are less chunks than available threads. You can avoid it by setting the environment variable OMP_NUM_THREADS=2.\n",
      "  warnings.warn(\n",
      "D:\\AnacomdaDownload\\Lib\\site-packages\\sklearn\\cluster\\_kmeans.py:1429: UserWarning: KMeans is known to have a memory leak on Windows with MKL, when there are less chunks than available threads. You can avoid it by setting the environment variable OMP_NUM_THREADS=2.\n",
      "  warnings.warn(\n",
      "D:\\AnacomdaDownload\\Lib\\site-packages\\sklearn\\cluster\\_kmeans.py:1429: UserWarning: KMeans is known to have a memory leak on Windows with MKL, when there are less chunks than available threads. You can avoid it by setting the environment variable OMP_NUM_THREADS=2.\n",
      "  warnings.warn(\n"
     ]
    }
   ],
   "source": [
    "# Perform K-means clustering for k in the range of 2 to 6\n",
    "k_values = range(2, 7)\n",
    "silhouette_scores = []     # To store silhouette score for each k\n",
    "inertias = []              # To store inertia (sum of squared errors) for each k\n",
    "cluster_labels = {}        # To store clustering labels for each sample\n",
    "\n",
    "for k in k_values:\n",
    "    kmeans = KMeans(n_clusters=k, random_state=42)\n",
    "    labels = kmeans.fit_predict(X_scaled)\n",
    "    cluster_labels[k] = labels\n",
    "    silhouette_scores.append(silhouette_score(X_scaled, labels))\n",
    "    inertias.append(kmeans.inertia_)"
   ]
  },
  {
   "cell_type": "code",
   "execution_count": 15,
   "id": "a1c7441a-90fe-4552-8daa-1f4eac24e7bf",
   "metadata": {},
   "outputs": [
    {
     "name": "stdout",
     "output_type": "stream",
     "text": [
      "Silhouette scores for different k values:\n",
      "k = 2: Silhouette Score = 0.3601\n",
      "k = 3: Silhouette Score = 0.2448\n",
      "k = 4: Silhouette Score = 0.2275\n",
      "k = 5: Silhouette Score = 0.2389\n",
      "k = 6: Silhouette Score = 0.2291\n"
     ]
    }
   ],
   "source": [
    "# Print silhouette scores for each k\n",
    "print(\"Silhouette scores for different k values:\")\n",
    "for i in range(len(k_values)):\n",
    "    print(f\"k = {k_values[i]}: Silhouette Score = {silhouette_scores[i]:.4f}\")"
   ]
  },
  {
   "cell_type": "code",
   "execution_count": 16,
   "id": "2ba57a31-2863-4e52-9724-1393bf5d6cca",
   "metadata": {},
   "outputs": [
    {
     "name": "stdout",
     "output_type": "stream",
     "text": [
      "\n",
      "Optimal number of clusters: 2 (Silhouette Score: 0.3601)\n"
     ]
    }
   ],
   "source": [
    "# Identify the optimal k (with the highest silhouette score)\n",
    "optimal_k = k_values[np.argmax(silhouette_scores)]\n",
    "print(f\"\\nOptimal number of clusters: {optimal_k} (Silhouette Score: {silhouette_scores[np.argmax(silhouette_scores)]:.4f})\")"
   ]
  },
  {
   "cell_type": "code",
   "execution_count": 17,
   "id": "95d3da58-9705-44bd-97e9-33e6885fac80",
   "metadata": {},
   "outputs": [],
   "source": [
    "# Retrieve optimal clustering labels and assign to the original DataFrame\n",
    "optimal_labels = cluster_labels[optimal_k]\n",
    "df['cluster'] = optimal_labels"
   ]
  },
  {
   "cell_type": "code",
   "execution_count": 18,
   "id": "1bf3b4bd-6023-4374-b025-014eb3436240",
   "metadata": {},
   "outputs": [
    {
     "name": "stdout",
     "output_type": "stream",
     "text": [
      "\n",
      "Feature means for the optimal clustering (k=2):\n",
      "          crim     zn  indus  chas   nox    rm    age   dis    rad     tax  \\\n",
      "cluster                                                                     \n",
      "0        0.26  17.48   6.89  0.07  0.49  6.46  56.34  4.76   4.47  301.92   \n",
      "1        9.84   0.00  19.04  0.07  0.68  5.97  91.32  2.01  18.99  605.86   \n",
      "\n",
      "         ptratio       b  lstat  \n",
      "cluster                          \n",
      "0          17.84  386.45   9.47  \n",
      "1          19.60  301.33  18.57  \n"
     ]
    }
   ],
   "source": [
    "# Calculate mean feature values by cluster (rounded to 2 decimal places)\n",
    "cluster_means = df.groupby('cluster')[X.columns].mean().round(2)\n",
    "print(\"\\nFeature means for the optimal clustering (k={}):\\n\".format(optimal_k), cluster_means)"
   ]
  },
  {
   "cell_type": "code",
   "execution_count": 19,
   "id": "8b08cbd2-e43a-4442-8eb2-dabe6aea1ff8",
   "metadata": {},
   "outputs": [
    {
     "name": "stderr",
     "output_type": "stream",
     "text": [
      "D:\\AnacomdaDownload\\Lib\\site-packages\\sklearn\\cluster\\_kmeans.py:1429: UserWarning: KMeans is known to have a memory leak on Windows with MKL, when there are less chunks than available threads. You can avoid it by setting the environment variable OMP_NUM_THREADS=2.\n",
      "  warnings.warn(\n"
     ]
    }
   ],
   "source": [
    "# Get the centroids of the KMeans model\n",
    "optimal_kmeans = KMeans(n_clusters=optimal_k, random_state=42)\n",
    "optimal_kmeans.fit(X_scaled)\n",
    "centroids_scaled = optimal_kmeans.cluster_centers_"
   ]
  },
  {
   "cell_type": "code",
   "execution_count": 20,
   "id": "f08c20d2-ba33-453f-8539-6c9c75c166a9",
   "metadata": {},
   "outputs": [
    {
     "name": "stdout",
     "output_type": "stream",
     "text": [
      "\n",
      "Standardized centroids of the optimal clustering (k=2):\n",
      "    crim    zn  indus  chas   nox    rm   age   dis   rad   tax  ptratio     b  \\\n",
      "0 -0.39  0.26  -0.62  0.00 -0.58  0.24 -0.44  0.46 -0.58 -0.63    -0.29  0.33   \n",
      "1  0.73 -0.49   1.15 -0.01  1.09 -0.45  0.81 -0.85  1.09  1.17     0.53 -0.61   \n",
      "\n",
      "   lstat  \n",
      "0  -0.45  \n",
      "1   0.83  \n"
     ]
    }
   ],
   "source": [
    "# Convert standardized centroids to DataFrame\n",
    "centroids_df = pd.DataFrame(centroids_scaled, columns=X.columns).round(2)\n",
    "print(\"\\nStandardized centroids of the optimal clustering (k={}):\\n\".format(optimal_k), centroids_df)"
   ]
  },
  {
   "cell_type": "code",
   "execution_count": 21,
   "id": "b746288b-0c21-48c8-abd9-3fa0baf0ede2",
   "metadata": {},
   "outputs": [
    {
     "name": "stdout",
     "output_type": "stream",
     "text": [
      "\n",
      "Centroids in original scale for the optimal clustering (k=2):\n",
      "    crim     zn  indus  chas   nox    rm    age   dis    rad     tax  ptratio  \\\n",
      "0  0.26  17.48   6.89  0.07  0.49  6.46  56.34  4.76   4.47  301.92    17.84   \n",
      "1  9.84   0.00  19.04  0.07  0.68  5.97  91.32  2.01  18.99  605.86    19.60   \n",
      "\n",
      "        b  lstat  \n",
      "0  386.45   9.47  \n",
      "1  301.33  18.57  \n"
     ]
    }
   ],
   "source": [
    "# Inverse-transform centroids back to the original scale (rounded to 2 decimals)\n",
    "centroids_original = scaler.inverse_transform(centroids_scaled)\n",
    "centroids_original_df = pd.DataFrame(centroids_original, columns=X.columns).round(2)\n",
    "print(\"\\nCentroids in original scale for the optimal clustering (k={}):\\n\".format(optimal_k), centroids_original_df)"
   ]
  },
  {
   "cell_type": "code",
   "execution_count": 22,
   "id": "4760d3ee-fa24-497f-bdf2-e4afcee42131",
   "metadata": {},
   "outputs": [
    {
     "name": "stdout",
     "output_type": "stream",
     "text": [
      "\n",
      "Difference between cluster feature means and centroids (original scale):\n",
      "\n",
      "Cluster 0:\n",
      "Difference between feature means and centroids:\n",
      "crim       0.0\n",
      "zn         0.0\n",
      "indus      0.0\n",
      "chas       0.0\n",
      "nox        0.0\n",
      "rm         0.0\n",
      "age        0.0\n",
      "dis        0.0\n",
      "rad        0.0\n",
      "tax        0.0\n",
      "ptratio    0.0\n",
      "b          0.0\n",
      "lstat      0.0\n",
      "\n",
      "Cluster 1:\n",
      "Difference between feature means and centroids:\n",
      "crim       0.0\n",
      "zn         0.0\n",
      "indus      0.0\n",
      "chas       0.0\n",
      "nox        0.0\n",
      "rm         0.0\n",
      "age        0.0\n",
      "dis        0.0\n",
      "rad        0.0\n",
      "tax        0.0\n",
      "ptratio    0.0\n",
      "b          0.0\n",
      "lstat      0.0\n"
     ]
    }
   ],
   "source": [
    "# Compare feature means with centroid coordinates (in original scale)\n",
    "print(\"\\nDifference between cluster feature means and centroids (original scale):\")\n",
    "for cluster in range(optimal_k):\n",
    "    print(f\"\\nCluster {cluster}:\")\n",
    "    diff = cluster_means.loc[cluster] - centroids_original_df.loc[cluster]\n",
    "    print(\"Difference between feature means and centroids:\")\n",
    "    print(diff.round(4).to_string())"
   ]
  },
  {
   "cell_type": "code",
   "execution_count": null,
   "id": "5a7a69d4-212f-4dd7-a8cc-a2dbccba42d9",
   "metadata": {},
   "outputs": [],
   "source": []
  },
  {
   "cell_type": "code",
   "execution_count": null,
   "id": "5b534f83-2c51-4414-ab21-c770cd71bc5a",
   "metadata": {},
   "outputs": [],
   "source": []
  }
 ],
 "metadata": {
  "kernelspec": {
   "display_name": "Python 3 (ipykernel)",
   "language": "python",
   "name": "python3"
  },
  "language_info": {
   "codemirror_mode": {
    "name": "ipython",
    "version": 3
   },
   "file_extension": ".py",
   "mimetype": "text/x-python",
   "name": "python",
   "nbconvert_exporter": "python",
   "pygments_lexer": "ipython3",
   "version": "3.12.7"
  }
 },
 "nbformat": 4,
 "nbformat_minor": 5
}
