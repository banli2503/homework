{
 "cells": [
  {
   "cell_type": "code",
   "execution_count": null,
   "id": "a27d57dd-5d59-4517-b30c-2cbcb9ed6ff1",
   "metadata": {},
   "outputs": [],
   "source": [
    "import pandas as pd\n",
    "from sklearn.datasets import load_wine\n",
    "from sklearn.preprocessing import StandardScaler\n",
    "from sklearn.cluster import KMeans\n",
    "from sklearn.metrics import homogeneity_score, completeness_score"
   ]
  },
  {
   "cell_type": "code",
   "execution_count": null,
   "id": "dc1b1a39-9add-42a4-b070-624295185706",
   "metadata": {},
   "outputs": [],
   "source": [
    "# Load data\n",
    "data = load_wine()\n",
    "df = pd.DataFrame(data.data, columns=data.feature_names)\n",
    "true_labels = data.target"
   ]
  },
  {
   "cell_type": "code",
   "execution_count": null,
   "id": "e9984374-88fd-41ad-afcb-435b891df2bd",
   "metadata": {},
   "outputs": [],
   "source": [
    "# Standardize the data\n",
    "scaler = StandardScaler()\n",
    "scaled_data = scaler.fit_transform(df)"
   ]
  },
  {
   "cell_type": "code",
   "execution_count": null,
   "id": "4ffbbd12-8aca-4593-ac06-d64d0267bc17",
   "metadata": {},
   "outputs": [],
   "source": [
    "# Perform KMeans clustering\n",
    "kmeans = KMeans(n_clusters=3, random_state=42, n_init='auto')\n",
    "cluster_labels = kmeans.fit_predict(scaled_data)"
   ]
  },
  {
   "cell_type": "code",
   "execution_count": null,
   "id": "ef5ad1a8-a73a-4333-a4b8-1418c7a3d08e",
   "metadata": {},
   "outputs": [],
   "source": [
    "# Homogeneity and Completeness metrics\n",
    "homogeneity = homogeneity_score(true_labels, cluster_labels)\n",
    "completeness = completeness_score(true_labels, cluster_labels)"
   ]
  },
  {
   "cell_type": "code",
   "execution_count": null,
   "id": "833f5465-b309-4967-922a-6b3d448945fa",
   "metadata": {},
   "outputs": [],
   "source": []
  },
  {
   "cell_type": "code",
   "execution_count": null,
   "id": "0c4d757d-caab-4f2f-9f68-c2794851a818",
   "metadata": {},
   "outputs": [],
   "source": []
  },
  {
   "cell_type": "code",
   "execution_count": null,
   "id": "db19e1e8-c4ea-4628-8159-858011ee8e3a",
   "metadata": {},
   "outputs": [],
   "source": []
  },
  {
   "cell_type": "code",
   "execution_count": null,
   "id": "10902623-c174-4be7-a71d-ae998080844a",
   "metadata": {},
   "outputs": [],
   "source": []
  },
  {
   "cell_type": "code",
   "execution_count": null,
   "id": "e17d5232-ef3f-4eab-a9d9-0343d00ed370",
   "metadata": {},
   "outputs": [],
   "source": []
  }
 ],
 "metadata": {
  "kernelspec": {
   "display_name": "Python 3 (ipykernel)",
   "language": "python",
   "name": "python3"
  },
  "language_info": {
   "codemirror_mode": {
    "name": "ipython",
    "version": 3
   },
   "file_extension": ".py",
   "mimetype": "text/x-python",
   "name": "python",
   "nbconvert_exporter": "python",
   "pygments_lexer": "ipython3",
   "version": "3.12.7"
  }
 },
 "nbformat": 4,
 "nbformat_minor": 5
}
